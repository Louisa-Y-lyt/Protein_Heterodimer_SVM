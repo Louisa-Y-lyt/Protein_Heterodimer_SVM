{
 "cells": [
  {
   "cell_type": "markdown",
   "id": "82c0687f-88db-4c16-acd9-f49d9b032f9e",
   "metadata": {},
   "source": [
    "# Build sif check"
   ]
  },
  {
   "cell_type": "code",
   "execution_count": 5,
   "id": "0e9438ba-4883-4ec9-90d9-90fd8b4e016f",
   "metadata": {},
   "outputs": [],
   "source": [
    "# about the job list: why it can only detect 330?\n",
    "import os \n",
    "output_dir = \"/n/holyscratch01/ramanathan_lab/yuting/outputs\"\n",
    "jobs = os.listdir(output_dir)"
   ]
  },
  {
   "cell_type": "code",
   "execution_count": 6,
   "id": "eec5831f-58a4-4f1c-87a1-8a861dfd0760",
   "metadata": {},
   "outputs": [
    {
     "data": {
      "text/plain": [
       "22797"
      ]
     },
     "execution_count": 6,
     "metadata": {},
     "output_type": "execute_result"
    }
   ],
   "source": [
    "len(jobs)"
   ]
  },
  {
   "cell_type": "code",
   "execution_count": 7,
   "id": "a479714f-bedc-4581-8e86-ed532d2abe9d",
   "metadata": {},
   "outputs": [],
   "source": [
    "res = []\n",
    "for job in jobs:\n",
    "    check = os.path.isfile(os.path.join(output_dir,job,'ranking_debug.json'))\n",
    "    if check:\n",
    "        # print(job)\n",
    "        res.append(job)"
   ]
  },
  {
   "cell_type": "code",
   "execution_count": 8,
   "id": "06c1e1d9-1ca0-44f6-9ebf-4128e6e4788d",
   "metadata": {},
   "outputs": [
    {
     "data": {
      "text/plain": [
       "1195"
      ]
     },
     "execution_count": 8,
     "metadata": {},
     "output_type": "execute_result"
    }
   ],
   "source": [
    "len(res)"
   ]
  },
  {
   "cell_type": "code",
   "execution_count": 1,
   "id": "f3ccaaac-b27b-4494-a7fc-1b52f54cfb9c",
   "metadata": {},
   "outputs": [],
   "source": [
    "# only have 300 pairs? \n",
    "# check the AF -> without pkl? \n",
    "# pipeline: 1000 fasta -> check outputs: results of failed seq -> 500 pairs: result of failed pairs\n",
    "# check method: python os check\n",
    "# complete alert -> send email when finishing all\n",
    "\n",
    "# how to notice all about"
   ]
  },
  {
   "cell_type": "code",
   "execution_count": null,
   "id": "2c3ceb63-3bfb-4566-899a-016303d8f5c9",
   "metadata": {},
   "outputs": [],
   "source": [
    "## msa_summary\n",
    "def msa_summary(output_dir: str, compare_fasta_file: str):\n",
    "    import os \n",
    "    output_files = {f for f in os.listdir(output_dir) if os.path.isfile(os.path.join(output_dir, f))}\n",
    "    protein_names = {}\n",
    "    with open(compare_fasta_file, 'r') as fasta_file:\n",
    "        order = 1\n",
    "        for line in fasta_file:\n",
    "            if line.startswith(\">\"):\n",
    "                protein_names[line.strip().lstrip('>')] = order\n",
    "                order += 1\n",
    "    protein_without_pkl = {}\n",
    "    for protein_name, protein_idx in protein_names.items():\n",
    "        pkl_file = protein_name + '.pkl'\n",
    "        if pkl_file not in output_files:\n",
    "            protein_without_pkl[protein_name] = protein_idx\n",
    "    return protein_without_pkl"
   ]
  },
  {
   "cell_type": "code",
   "execution_count": null,
   "id": "a39f441a-95b9-4e76-be54-776e455d8b14",
   "metadata": {
    "tags": []
   },
   "outputs": [],
   "source": [
    "compare_fasta_file = \"/n/home10/ytingliu/alphapulldown_new/8599_tp_input.fasta\"\n",
    "output_dir = \"/n/holyscratch01/ramanathan_lab/yuting/outputs\"\n",
    "res = ''\n",
    "answer_dict = msa_summary(output_dir, compare_fasta_file)\n",
    "for protein_name, array in answer_dict.items():\n",
    "    res += str(array)\n",
    "    res += \",\"\n",
    "res"
   ]
  },
  {
   "cell_type": "code",
   "execution_count": null,
   "id": "cb00aa66-091d-41e2-987c-a9aafd58d200",
   "metadata": {},
   "outputs": [],
   "source": [
    "## af2_summary\n",
    "def af2_summary(output_dir: str, compare_af2_file: str):\n",
    "    import os \n",
    "    custom_list = {}\n",
    "    with open(compare_af2_file, 'r') as f:\n",
    "        order = 1\n",
    "        for line in f:\n",
    "            target = ''\n",
    "            for item in line.rstrip(\"\\n\").split(\";\")[:-1]:\n",
    "                target += item\n",
    "                target += \"_and_\"\n",
    "            target += line.rstrip(\"\\n\").split(\";\")[-1]\n",
    "            custom_list[target] = order\n",
    "            order += 1\n",
    "    protein_pairs_without_af2 = {}\n",
    "    for job, idx in custom_list.items():\n",
    "        check = os.path.isfile(os.path.join(output_dir,job,'ranking_debug.json'))\n",
    "        if not check:\n",
    "            protein_pairs_without_af2[job] = idx\n",
    "    return protein_pairs_without_af2"
   ]
  },
  {
   "cell_type": "code",
   "execution_count": null,
   "id": "1df2c009-41f8-478a-9139-d85041f3dcd7",
   "metadata": {
    "tags": []
   },
   "outputs": [],
   "source": [
    "output_dir = \"/n/holyscratch01/ramanathan_lab/yuting/outputs\"\n",
    "compare_af2_file = \"/n/home10/ytingliu/alphapulldown_new/500_tn_pairs.txt\"\n",
    "res = ''\n",
    "for protein_name, array in af2_summary(output_dir, compare_af2_file).items():\n",
    "    res += str(array)\n",
    "    res += \",\"\n",
    "res"
   ]
  },
  {
   "cell_type": "code",
   "execution_count": 46,
   "id": "b5852d12-db33-4beb-85c3-8cc6ef300f97",
   "metadata": {},
   "outputs": [],
   "source": [
    "def af2_summary(output_dir: str, compare_af2_file: str):\n",
    "    import os \n",
    "    custom_list = {}\n",
    "    with open(compare_af2_file, 'r') as f:\n",
    "        order = 1\n",
    "        for line in f:\n",
    "            target = ''\n",
    "            for item in line.rstrip(\"\\n\").split(\";\")[:-1]:\n",
    "                target += item\n",
    "                target += \"_and_\"\n",
    "            target += line.rstrip(\"\\n\").split(\";\")[-1]\n",
    "            custom_list[target] = order\n",
    "            order += 1\n",
    "    protein_pairs_without_af2 = {}\n",
    "    af2_subdirs = [f for f in os.listdir(output_dir) if os.path.isdir(os.path.join(output_dir, f)) and \"msa\" not in f and \".ipynb\" not in f]  \n",
    "    # print(af2_subdirs)\n",
    "    for job, idx in custom_list.items():\n",
    "        check = False\n",
    "        for directory in af2_subdirs: \n",
    "            job_path = os.path.join(output_dir, directory, job, 'ranking_debug.json')\n",
    "            check = os.path.isfile(os.path.join(output_dir, directory, job, 'ranking_debug.json'))\n",
    "            if check:\n",
    "                break\n",
    "        if check:\n",
    "            continue\n",
    "        else:\n",
    "            protein_pairs_without_af2[job] = idx\n",
    "    return protein_pairs_without_af2"
   ]
  },
  {
   "cell_type": "code",
   "execution_count": 49,
   "id": "fd8fb3a8-884f-40b0-b9de-6a412f381ac9",
   "metadata": {
    "tags": []
   },
   "outputs": [],
   "source": [
    "output_dir = \"/n/holyscratch01/ramanathan_lab/yuting/outputs\"\n",
    "compare_af2_file = \"/n/home10/ytingliu/alphapulldown_new/8599_tp_pairs.txt\"\n",
    "# res = ''\n",
    "# for protein_name, array in af2_summary(output_dir, compare_af2_file).items():\n",
    "#     res += str(array)\n",
    "#     res += \",\"\n",
    "# res"
   ]
  },
  {
   "cell_type": "code",
   "execution_count": 50,
   "id": "0d2cf026-cd39-496f-8071-f31252c499fb",
   "metadata": {
    "tags": []
   },
   "outputs": [
    {
     "name": "stdout",
     "output_type": "stream",
     "text": [
      "Elapsed time: 0.16718626022338867 seconds\n"
     ]
    }
   ],
   "source": [
    "import time\n",
    "\n",
    "# Record the start time\n",
    "start_time = time.time()\n",
    "\n",
    "len(af2_summary(output_dir, compare_af2_file))\n",
    "\n",
    "# Record the end time\n",
    "end_time = time.time()\n",
    "\n",
    "# Calculate the elapsed time\n",
    "elapsed_time = end_time - start_time\n",
    "\n",
    "print(f\"Elapsed time: {elapsed_time} seconds\")"
   ]
  },
  {
   "cell_type": "code",
   "execution_count": null,
   "id": "94824548-5da7-45cc-b87f-555b0e5207c9",
   "metadata": {},
   "outputs": [],
   "source": []
  }
 ],
 "metadata": {
  "kernelspec": {
   "display_name": "Python [conda env:.conda-alphapulldown_new]",
   "language": "python",
   "name": "conda-env-.conda-alphapulldown_new-py"
  },
  "language_info": {
   "codemirror_mode": {
    "name": "ipython",
    "version": 3
   },
   "file_extension": ".py",
   "mimetype": "text/x-python",
   "name": "python",
   "nbconvert_exporter": "python",
   "pygments_lexer": "ipython3",
   "version": "3.8.0"
  }
 },
 "nbformat": 4,
 "nbformat_minor": 5
}
