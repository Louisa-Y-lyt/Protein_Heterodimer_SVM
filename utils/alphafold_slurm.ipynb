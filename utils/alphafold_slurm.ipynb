{
 "cells": [
  {
   "cell_type": "code",
   "execution_count": 66,
   "id": "b8cffa38-a6f9-4ee1-9972-dea547a0212e",
   "metadata": {},
   "outputs": [
    {
     "name": "stdout",
     "output_type": "stream",
     "text": [
      "Overwriting /n/home10/ytingliu/alphapulldown/run_multimer_jobs_SLURM.sh\n"
     ]
    }
   ],
   "source": [
    "%%writefile /n/home10/ytingliu/alphapulldown/run_multimer_jobs_SLURM.sh\n",
    "#!/bin/bash\n",
    "\n",
    "#A typical run takes couple of hours but may be much longer\n",
    "#SBATCH --job-name=step2_test\n",
    "#SBATCH -t 4:00:00\n",
    "\n",
    "#log files:\n",
    "# SBATCH -e logs/run_multimer_jobs_%A_%a_err.txt\n",
    "# SBATCH -o logs/run_multimer_jobs_%A_%a_out.txt\n",
    "\n",
    "#qos sets priority\n",
    "#SBATCH --qos=low\n",
    "\n",
    "#SBATCH -p gpu\n",
    "#lower end GPUs might be sufficient for pairwise screens:\n",
    "#SBATCH --cpus-per-task 8\n",
    "\n",
    "#Reserve the entire GPU so no-one else slows you down\n",
    "#SBATCH --gres=gpu:1\n",
    "\n",
    "#Limit the run to a single node\n",
    "#SBATCH -N 1\n",
    "\n",
    "#Adjust this depending on the node\n",
    "#SBATCH --ntasks=8\n",
    "#SBATCH --mem=64G\n",
    "\n",
    "module load cuda/11.8.0-fasrc01\n",
    "module load cudnn/8.9.2.26_cuda11-fasrc01\n",
    "module load python/3.10.9-fasrc01\n",
    "conda activate AlphaPulldown\n",
    "\n",
    "# MAXRAM=$(echo `ulimit -m` '/ 1024.0'|bc)\n",
    "# GPUMEM=`nvidia-smi --query-gpu=memory.total --format=csv,noheader,nounits|tail -1`\n",
    "# export XLA_PYTHON_CLIENT_MEM_FRACTION=`echo \"scale=3;$MAXRAM / $GPUMEM\"|bc`\n",
    "# export TF_FORCE_UNIFIED_MEMORY='1'\n",
    "\n",
    "run_multimer_jobs.py --mode=custom \\\n",
    "    --num_cycle=3 \\\n",
    "    --num_predictions_per_model=1 \\\n",
    "    --output_path=/n/home10/ytingliu/test_output \\\n",
    "    --data_dir=/n/holylfs04-ssd2/LABS/FAS/alphafold_database \\\n",
    "    --protein_lists=/n/home10/ytingliu/alphapulldown/custom_mode.txt \\\n",
    "    --monomer_objects_dir=/n/home10/ytingliu/test_output \\\n",
    "    "
   ]
  },
  {
   "cell_type": "code",
   "execution_count": null,
   "id": "36c795cf-4453-4c35-9b76-28734e85d4a4",
   "metadata": {},
   "outputs": [],
   "source": [
    "# run_multimer_jobs.py \\\n",
    "#   --mode=custom \\\n",
    "#   --num_cycle=3 \\\n",
    "#   --num_predictions_per_model=1 \\\n",
    "#   --output_path=<path to output directory> \\ \n",
    "#   --data_dir=<path to AlphaFold data directory> \\ \n",
    "#   --protein_lists=custom_mode.txt \\\n",
    "#   --monomer_objects_dir=/path/to/monomer_objects_directory \\\n",
    "#   --job_index=<any number you want>"
   ]
  },
  {
   "cell_type": "code",
   "execution_count": 67,
   "id": "c7f275b0-bacc-49a1-b081-574aa533ce35",
   "metadata": {},
   "outputs": [
    {
     "name": "stdout",
     "output_type": "stream",
     "text": [
      "Submitted batch job 2760035\n"
     ]
    }
   ],
   "source": [
    "!sbatch /n/home10/ytingliu/alphapulldown/run_multimer_jobs_SLURM.sh"
   ]
  },
  {
   "cell_type": "code",
   "execution_count": 71,
   "id": "b4cd34d4-f635-4e4d-a262-fde10097031c",
   "metadata": {},
   "outputs": [
    {
     "name": "stdout",
     "output_type": "stream",
     "text": [
      "Slurmctld(primary) at holy-slurm02 is UP\n"
     ]
    }
   ],
   "source": [
    "!scontrol ping"
   ]
  },
  {
   "cell_type": "code",
   "execution_count": 65,
   "id": "719fb1fc-9e03-4818-a58b-b0845a7e21c7",
   "metadata": {},
   "outputs": [],
   "source": [
    "!scancel 2759768"
   ]
  },
  {
   "cell_type": "code",
   "execution_count": 73,
   "id": "569f36df-78db-4ed5-b939-bf690e6058c5",
   "metadata": {},
   "outputs": [
    {
     "name": "stdout",
     "output_type": "stream",
     "text": [
      "             JOBID PARTITION     NAME     USER ST       TIME  NODES NODELIST(REASON)\n",
      "           2760035       gpu step2_te ytingliu  R      10:45      1 holygpu7c26205\n",
      "           2744243    shared .fasrcoo ytingliu  R    4:00:02      1 holy7c10410\n"
     ]
    }
   ],
   "source": [
    "!squeue"
   ]
  },
  {
   "cell_type": "code",
   "execution_count": null,
   "id": "4e83ca48-4024-4cb7-9522-16088343f826",
   "metadata": {},
   "outputs": [
    {
     "name": "stdout",
     "output_type": "stream",
     "text": [
      "JobID        JobIDRaw        JobName  Partition  MaxVMSize  MaxVMSizeNode  MaxVMSizeTask  AveVMSize     MaxRSS MaxRSSNode MaxRSSTask     AveRSS MaxPages MaxPagesNode   MaxPagesTask   AvePages     MinCPU MinCPUNode MinCPUTask     AveCPU   NTasks  AllocCPUS    Elapsed      State ExitCode AveCPUFreq ReqCPUFreqMin ReqCPUFreqMax ReqCPUFreqGov     ReqMem ConsumedEnergy  MaxDiskRead MaxDiskReadNode MaxDiskReadTask    AveDiskRead MaxDiskWrite MaxDiskWriteNode MaxDiskWriteTask   AveDiskWrite    ReqTRES  AllocTRES TRESUsageInAve TRESUsageInMax TRESUsageInMaxNode TRESUsageInMaxTask TRESUsageInMin TRESUsageInMinNode TRESUsageInMinTask TRESUsageInTot TRESUsageOutMax TRESUsageOutMaxNode TRESUsageOutMaxTask TRESUsageOutAve TRESUsageOutTot \n",
      "------------ ------------ ---------- ---------- ---------- -------------- -------------- ---------- ---------- ---------- ---------- ---------- -------- ------------ -------------- ---------- ---------- ---------- ---------- ---------- -------- ---------- ---------- ---------- -------- ---------- ------------- ------------- ------------- ---------- -------------- ------------ --------------- --------------- -------------- ------------ ---------------- ---------------- -------------- ---------- ---------- -------------- -------------- ------------------ ------------------ -------------- ------------------ ------------------ -------------- --------------- ------------------- ------------------- --------------- --------------- \n",
      "2752195      2752195      run_multi+        gpu                                                                                                                                                                                                              64   00:10:19    TIMEOUT      0:0                  Unknown       Unknown       Unknown        64G                                                                                                                                          billing=2+ billing=2+                                                                                                                                                                                                                                 \n",
      "2752195.bat+ 2752195.bat+      batch             27619084K holygpu7c26301              0  27619084K   4729596K holygpu7c+          0   4729596K        0 holygpu7c26+              0          0   01:10:24 holygpu7c+          0   00:00:00        1         64   00:10:20  CANCELLED     0:15      3.40M             0             0             0                         0     1854.09M  holygpu7c26301               0       1854.09M        0.01M   holygpu7c26301                0          0.01M            cpu=64,gr+ cpu=00:00:00,+ cpu=01:10:24,+ cpu=holygpu7c2630+ cpu=0,fs/disk=0,g+ cpu=01:10:24,+ cpu=holygpu7c2630+ cpu=0,fs/disk=0,g+ cpu=00:00:00,+ energy=0,fs/di+ energy=holygpu7c26+           fs/disk=0 energy=0,fs/di+ energy=0,fs/di+ \n",
      "2752195.ext+ 2752195.ext+     extern                 7328K holygpu7c26301              0      7328K       844K holygpu7c+          0       844K        0 holygpu7c26+              0          0   00:00:00 holygpu7c+          0   00:00:00        1         64   00:10:19  COMPLETED      0:0      3.40M             0             0             0                         0        0.01M  holygpu7c26301               0          0.01M        0.00M   holygpu7c26301                0          0.00M            billing=2+ cpu=00:00:00,+ cpu=00:00:00,+ cpu=holygpu7c2630+ cpu=0,fs/disk=0,g+ cpu=00:00:00,+ cpu=holygpu7c2630+ cpu=0,fs/disk=0,g+ cpu=00:00:00,+ energy=0,fs/di+ energy=holygpu7c26+           fs/disk=0 energy=0,fs/di+ energy=0,fs/di+ \n"
     ]
    }
   ],
   "source": [
    "!sacct -j 2752195 --long"
   ]
  },
  {
   "cell_type": "code",
   "execution_count": null,
   "id": "ca43be90-4463-4d73-937e-8c34de678f43",
   "metadata": {},
   "outputs": [
    {
     "name": "stdout",
     "output_type": "stream",
     "text": [
      "slurm_load_jobs error: Invalid job id specified\n"
     ]
    }
   ],
   "source": [
    "!scontrol show job 2760035"
   ]
  },
  {
   "cell_type": "code",
   "execution_count": null,
   "id": "c80633dd-4d9b-4e4c-b688-34b341fbfd3a",
   "metadata": {},
   "outputs": [],
   "source": [
    "# next step imprivement: define a job array"
   ]
  }
 ],
 "metadata": {
  "kernelspec": {
   "display_name": "Python 3",
   "language": "python",
   "name": "python3"
  },
  "language_info": {
   "codemirror_mode": {
    "name": "ipython",
    "version": 3
   },
   "file_extension": ".py",
   "mimetype": "text/x-python",
   "name": "python",
   "nbconvert_exporter": "python",
   "pygments_lexer": "ipython3",
   "version": "3.8.8"
  }
 },
 "nbformat": 4,
 "nbformat_minor": 5
}
